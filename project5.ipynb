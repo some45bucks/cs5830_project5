{
 "cells": [
  {
   "cell_type": "code",
   "execution_count": 30,
   "metadata": {},
   "outputs": [],
   "source": [
    "\n",
    "import pandas as pd\n",
    "import seaborn as sns\n",
    "import matplotlib.pyplot as plt\n",
    "import numpy as np\n",
    "\n",
    "SAVE_PATH = './regensburg_pediatric_appendicitis.csv'  \n",
    "\n",
    "try:\n",
    "    data = pd.read_csv(SAVE_PATH)\n",
    "except:\n",
    "    from ucimlrepo import fetch_ucirepo \n",
    "    regensburg_pediatric_appendicitis = fetch_ucirepo(id=938) \n",
    "    data = regensburg_pediatric_appendicitis['data']['features']\n",
    "    data.to_csv(SAVE_PATH, index=False)\n"
   ]
  },
  {
   "cell_type": "markdown",
   "metadata": {},
   "source": [
    "# One hot encode"
   ]
  },
  {
   "cell_type": "code",
   "execution_count": null,
   "metadata": {},
   "outputs": [],
   "source": [
    "\n",
    "categorical_cols = data.select_dtypes(include=['object', 'category']).columns\n",
    "\n",
    "data_encoded = pd.get_dummies(data, columns=categorical_cols, drop_first=True)\n",
    "\n",
    "display(data_encoded)"
   ]
  }
 ],
 "metadata": {
  "kernelspec": {
   "display_name": "ytapi",
   "language": "python",
   "name": "python3"
  },
  "language_info": {
   "codemirror_mode": {
    "name": "ipython",
    "version": 3
   },
   "file_extension": ".py",
   "mimetype": "text/x-python",
   "name": "python",
   "nbconvert_exporter": "python",
   "pygments_lexer": "ipython3",
   "version": "3.10.14"
  }
 },
 "nbformat": 4,
 "nbformat_minor": 2
}

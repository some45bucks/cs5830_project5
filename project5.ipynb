{
 "cells": [
  {
   "cell_type": "code",
   "execution_count": null,
   "metadata": {},
   "outputs": [],
   "source": [
    "from ucimlrepo import fetch_ucirepo \n",
    "  \n",
    "# fetch dataset \n",
    "regensburg_pediatric_appendicitis = fetch_ucirepo(id=938) \n",
    "  \n",
    "# data (as pandas dataframes) \n",
    "X = regensburg_pediatric_appendicitis.data.features \n",
    "y = regensburg_pediatric_appendicitis.data.targets \n",
    "  \n",
    "# metadata \n",
    "print(regensburg_pediatric_appendicitis.metadata) \n",
    "  \n",
    "# variable information \n",
    "print(regensburg_pediatric_appendicitis.variables) \n"
   ]
  }
 ],
 "metadata": {
  "kernelspec": {
   "display_name": "ytapi",
   "language": "python",
   "name": "python3"
  },
  "language_info": {
   "codemirror_mode": {
    "name": "ipython",
    "version": 3
   },
   "file_extension": ".py",
   "mimetype": "text/x-python",
   "name": "python",
   "nbconvert_exporter": "python",
   "pygments_lexer": "ipython3",
   "version": "3.10.14"
  }
 },
 "nbformat": 4,
 "nbformat_minor": 2
}
